{
 "cells": [
  {
   "cell_type": "code",
   "execution_count": 13,
   "metadata": {},
   "outputs": [
    {
     "ename": "ModuleNotFoundError",
     "evalue": "No module named 'pulp'",
     "output_type": "error",
     "traceback": [
      "\u001b[1;31m---------------------------------------------------------------------------\u001b[0m",
      "\u001b[1;31mModuleNotFoundError\u001b[0m                       Traceback (most recent call last)",
      "Cell \u001b[1;32mIn[13], line 2\u001b[0m\n\u001b[0;32m      1\u001b[0m \u001b[38;5;66;03m# Import PuLP library\u001b[39;00m\n\u001b[1;32m----> 2\u001b[0m \u001b[38;5;28;01mfrom\u001b[39;00m \u001b[38;5;21;01mpulp\u001b[39;00m \u001b[38;5;28;01mimport\u001b[39;00m LpMaximize, LpProblem, LpVariable, value\n\u001b[0;32m      4\u001b[0m \u001b[38;5;66;03m# Step 1: Create the LP maximization problem\u001b[39;00m\n\u001b[0;32m      5\u001b[0m model \u001b[38;5;241m=\u001b[39m LpProblem(name\u001b[38;5;241m=\u001b[39m\u001b[38;5;124m\"\u001b[39m\u001b[38;5;124mfurniture-profit-maximization\u001b[39m\u001b[38;5;124m\"\u001b[39m, sense\u001b[38;5;241m=\u001b[39mLpMaximize)\n",
      "\u001b[1;31mModuleNotFoundError\u001b[0m: No module named 'pulp'"
     ]
    }
   ],
   "source": [
    "# Import PuLP library\n",
    "from pulp import LpMaximize, LpProblem, LpVariable, value\n",
    "\n",
    "# Step 1: Create the LP maximization problem\n",
    "model = LpProblem(name=\"furniture-profit-maximization\", sense=LpMaximize)\n",
    "\n",
    "# Step 2: Define decision variables\n",
    "chairs = LpVariable(name=\"chairs\", lowBound=0, cat='Integer')\n",
    "tables = LpVariable(name=\"tables\", lowBound=0, cat='Integer')\n",
    "\n",
    "# Step 3: Add constraints\n",
    "model += (5 * chairs + 20 * tables <= 400, \"Wood Constraint\")\n",
    "model += (10 * chairs + 15 * tables <= 450, \"Labor Constraint\")\n",
    "\n",
    "# Step 4: Add objective function\n",
    "model += (50 * chairs + 120 * tables, \"Total Profit\")\n",
    "\n",
    "# Step 5: Solve the model\n",
    "print(\"Running optimization model...\")\n",
    "model.solve()\n",
    "\n",
    "# Step 6: Print results\n",
    "print(f\"Status: {model.status}\")\n",
    "print(f\"Chairs to produce: {chairs.value()}\")\n",
    "print(f\"Tables to produce: {tables.value()}\")\n",
    "print(f\"Maximum Profit: ₹ {value(model.objective)}\")\n"
   ]
  },
  {
   "cell_type": "markdown",
   "metadata": {},
   "source": [
    "# Task 4: Optimization Model - Maximizing Profit for Furniture Production\n",
    "\n",
    "This notebook solves a Linear Programming problem using Python and PuLP to determine the optimal number of *chairs* and *tables* a furniture manufacturer should produce to maximize profit under labor and material constraints."
   ]
  },
  {
   "cell_type": "markdown",
   "metadata": {},
   "source": [
    "## ✅ Conclusion\n",
    "\n",
    "- The model finds the *optimal number of chairs and tables* to produce within the given constraints.\n",
    "- This solution maximizes profit while staying within the limits of available *wood* and *labor*."
   ]
  },
  {
   "cell_type": "markdown",
   "metadata": {},
   "source": [
    "## Problem Statement\n",
    "\n",
    "A manufacturer makes two products:\n",
    "- *Chairs* with a profit of ₹50  \n",
    "- *Tables* with a profit of ₹120  \n",
    "\n",
    "Each product requires:\n",
    "- *Chairs:* 5 units of wood, 10 hours of labor  \n",
    "- *Tables:* 20 units of wood, 15 hours of labor\n",
    "\n",
    "Available:\n",
    "- *Total Wood:* 400 units  \n",
    "- *Total Labor Hours:* 450  \n",
    "\n",
    "*Goal:* Maximize profit"
   ]
  }
 ],
 "metadata": {
  "kernelspec": {
   "display_name": "base",
   "language": "python",
   "name": "python3"
  },
  "language_info": {
   "codemirror_mode": {
    "name": "ipython",
    "version": 3
   },
   "file_extension": ".py",
   "mimetype": "text/x-python",
   "name": "python",
   "nbconvert_exporter": "python",
   "pygments_lexer": "ipython3",
   "version": "3.12.7"
  }
 },
 "nbformat": 4,
 "nbformat_minor": 2
}
